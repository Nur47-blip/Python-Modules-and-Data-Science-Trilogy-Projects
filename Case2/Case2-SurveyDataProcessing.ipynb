{
 "cells": [
  {
   "cell_type": "markdown",
   "id": "628205c3",
   "metadata": {},
   "source": [
    "# Survey Data Processing\n",
    "\n",
    "Proyek ini bertujuan untuk memproses dan menganalisis data survei guna memperoleh insight terkait tingkat kepuasan konsumen."
   ]
  },
  {
   "cell_type": "markdown",
   "id": "0002b8cc",
   "metadata": {},
   "source": [
    "### Persiapan Data"
   ]
  },
  {
   "cell_type": "markdown",
   "id": "da6dd0a9",
   "metadata": {},
   "source": [
    "Proyek ini menggunakan pandas untuk manipulasi dan analisis data serta numpy untuk operasi numerik"
   ]
  },
  {
   "cell_type": "code",
   "execution_count": 38,
   "id": "d21b4ebe",
   "metadata": {},
   "outputs": [],
   "source": [
    "# import Library\n",
    "\n",
    "import pandas as pd\n",
    "import numpy as np"
   ]
  },
  {
   "cell_type": "markdown",
   "id": "74da3688",
   "metadata": {},
   "source": [
    "Data yang digunakan berasal dari https://data.world/aiyanasmith/electronic-city/workspace/file?filename=ElectronicsCity.xlsx\n",
    "\n",
    "Terdapat 2 dataset:\n",
    "- sales_data berisi data penjualan perangkat elektronik\n",
    "- satisfaction_data berisi survey kepuasan "
   ]
  },
  {
   "cell_type": "code",
   "execution_count": 39,
   "id": "29211ee0",
   "metadata": {},
   "outputs": [],
   "source": [
    "# Load sales_data\n",
    "sales_data = pd.read_excel('sales_data.xlsx')\n",
    "\n",
    "# Load satisfaction_data\n",
    "satisfaction_data = pd.read_excel('satisfaction_data.xlsx')"
   ]
  },
  {
   "cell_type": "code",
   "execution_count": 40,
   "id": "e83109dc",
   "metadata": {},
   "outputs": [
    {
     "name": "stdout",
     "output_type": "stream",
     "text": [
      "<class 'pandas.core.frame.DataFrame'>\n",
      "RangeIndex: 536 entries, 0 to 535\n",
      "Data columns (total 11 columns):\n",
      " #   Column             Non-Null Count  Dtype         \n",
      "---  ------             --------------  -----         \n",
      " 0   Invoice Number     536 non-null    int64         \n",
      " 1   Store ID           536 non-null    int64         \n",
      " 2   Store City         536 non-null    object        \n",
      " 3   Store State        536 non-null    object        \n",
      " 4   Salesperson ID     536 non-null    object        \n",
      " 5   Sale Date          536 non-null    datetime64[ns]\n",
      " 6   Manufacturer ID    536 non-null    int64         \n",
      " 7   Manufacturer Name  536 non-null    object        \n",
      " 8   Product ID         536 non-null    int64         \n",
      " 9   Product Type       536 non-null    object        \n",
      " 10  Sale Amount        536 non-null    int64         \n",
      "dtypes: datetime64[ns](1), int64(5), object(5)\n",
      "memory usage: 46.2+ KB\n"
     ]
    }
   ],
   "source": [
    "sales_data.info()"
   ]
  },
  {
   "cell_type": "code",
   "execution_count": 41,
   "id": "75eeb3fd",
   "metadata": {},
   "outputs": [
    {
     "name": "stdout",
     "output_type": "stream",
     "text": [
      "<class 'pandas.core.frame.DataFrame'>\n",
      "RangeIndex: 461 entries, 0 to 460\n",
      "Data columns (total 6 columns):\n",
      " #   Column                   Non-Null Count  Dtype         \n",
      "---  ------                   --------------  -----         \n",
      " 0   Store City               448 non-null    object        \n",
      " 1   Salesperson              448 non-null    object        \n",
      " 2   Invoice Date             448 non-null    datetime64[ns]\n",
      " 3   Invoice ID               448 non-null    float64       \n",
      " 4   Customer Satisfaction    449 non-null    object        \n",
      " 5   Sales Training Approach  448 non-null    object        \n",
      "dtypes: datetime64[ns](1), float64(1), object(4)\n",
      "memory usage: 21.7+ KB\n"
     ]
    }
   ],
   "source": [
    "satisfaction_data.info()"
   ]
  },
  {
   "cell_type": "markdown",
   "id": "7c265f41",
   "metadata": {},
   "source": [
    "Tipe data pada masing-masing kolom sudah sesuai. Namun, terdapat beberapa kolom yang sama pada kedua dataset, yaitu 'Store City', 'Salesperson', dan 'Invoice Date'. Karena isi dari kolom-kolom tersebut identik, kolom tersebut dihapus dari satisfaction_data sebelum penggabungan. Untuk mempermudah analisis, kedua dataset kemudian digabungkan menjadi satu DataFrame berdasarkan kolom 'Invoice Number'."
   ]
  },
  {
   "cell_type": "code",
   "execution_count": 42,
   "id": "4ca91903",
   "metadata": {},
   "outputs": [],
   "source": [
    "# Drop kolom pada satisfaction_data yang juga muncul di sales_data (kecuali kolom Invoice ID)\n",
    "satisfaction_data.drop(columns=['Store City', 'Salesperson', 'Invoice Date'], inplace=True)\n",
    "\n",
    "# Rename kolom 'Invoice ID' pada 'satisfaction_data' ke 'Invoice Number'\n",
    "satisfaction_data.rename(columns={'Invoice ID': 'Invoice Number'}, inplace=True)\n",
    "\n",
    "# Gabungkan kedua data\n",
    "df = pd.merge(sales_data, satisfaction_data, on='Invoice Number', how='left')"
   ]
  },
  {
   "cell_type": "code",
   "execution_count": 45,
   "id": "bdc61a3a",
   "metadata": {},
   "outputs": [
    {
     "data": {
      "text/html": [
       "<div>\n",
       "<style scoped>\n",
       "    .dataframe tbody tr th:only-of-type {\n",
       "        vertical-align: middle;\n",
       "    }\n",
       "\n",
       "    .dataframe tbody tr th {\n",
       "        vertical-align: top;\n",
       "    }\n",
       "\n",
       "    .dataframe thead th {\n",
       "        text-align: right;\n",
       "    }\n",
       "</style>\n",
       "<table border=\"1\" class=\"dataframe\">\n",
       "  <thead>\n",
       "    <tr style=\"text-align: right;\">\n",
       "      <th></th>\n",
       "      <th>Invoice Number</th>\n",
       "      <th>Store ID</th>\n",
       "      <th>Store City</th>\n",
       "      <th>Store State</th>\n",
       "      <th>Salesperson ID</th>\n",
       "      <th>Sale Date</th>\n",
       "      <th>Manufacturer ID</th>\n",
       "      <th>Manufacturer Name</th>\n",
       "      <th>Product ID</th>\n",
       "      <th>Product Type</th>\n",
       "      <th>Sale Amount</th>\n",
       "      <th>Customer Satisfaction</th>\n",
       "      <th>Sales Training Approach</th>\n",
       "    </tr>\n",
       "  </thead>\n",
       "  <tbody>\n",
       "    <tr>\n",
       "      <th>0</th>\n",
       "      <td>1</td>\n",
       "      <td>3</td>\n",
       "      <td>Tillamook</td>\n",
       "      <td>OR</td>\n",
       "      <td>CJ</td>\n",
       "      <td>2015-01-01 18:00:00</td>\n",
       "      <td>1</td>\n",
       "      <td>Hewlett-Packard</td>\n",
       "      <td>3</td>\n",
       "      <td>Desktop</td>\n",
       "      <td>649</td>\n",
       "      <td>1</td>\n",
       "      <td>Bi-annual Training</td>\n",
       "    </tr>\n",
       "    <tr>\n",
       "      <th>1</th>\n",
       "      <td>2</td>\n",
       "      <td>1</td>\n",
       "      <td>Vancouver</td>\n",
       "      <td>WA</td>\n",
       "      <td>Emily</td>\n",
       "      <td>2015-01-01 18:00:00</td>\n",
       "      <td>7</td>\n",
       "      <td>LexMark</td>\n",
       "      <td>5</td>\n",
       "      <td>Inkjet Printer</td>\n",
       "      <td>239</td>\n",
       "      <td>2</td>\n",
       "      <td>Weekly Training</td>\n",
       "    </tr>\n",
       "    <tr>\n",
       "      <th>2</th>\n",
       "      <td>2</td>\n",
       "      <td>1</td>\n",
       "      <td>Vancouver</td>\n",
       "      <td>WA</td>\n",
       "      <td>Emily</td>\n",
       "      <td>2015-01-01 18:00:00</td>\n",
       "      <td>7</td>\n",
       "      <td>LexMark</td>\n",
       "      <td>5</td>\n",
       "      <td>Inkjet Printer</td>\n",
       "      <td>239</td>\n",
       "      <td>2</td>\n",
       "      <td>Weekly Training</td>\n",
       "    </tr>\n",
       "    <tr>\n",
       "      <th>3</th>\n",
       "      <td>3</td>\n",
       "      <td>1</td>\n",
       "      <td>Vancouver</td>\n",
       "      <td>WA</td>\n",
       "      <td>Jesse</td>\n",
       "      <td>2015-01-01 18:00:00</td>\n",
       "      <td>2</td>\n",
       "      <td>Compaq</td>\n",
       "      <td>3</td>\n",
       "      <td>Desktop</td>\n",
       "      <td>699</td>\n",
       "      <td>3</td>\n",
       "      <td>Weekly Training</td>\n",
       "    </tr>\n",
       "    <tr>\n",
       "      <th>4</th>\n",
       "      <td>4</td>\n",
       "      <td>2</td>\n",
       "      <td>Salem</td>\n",
       "      <td>OR</td>\n",
       "      <td>Jessica</td>\n",
       "      <td>2015-01-01 18:00:00</td>\n",
       "      <td>1</td>\n",
       "      <td>Hewlett-Packard</td>\n",
       "      <td>3</td>\n",
       "      <td>Desktop</td>\n",
       "      <td>649</td>\n",
       "      <td>1</td>\n",
       "      <td>Self Training</td>\n",
       "    </tr>\n",
       "  </tbody>\n",
       "</table>\n",
       "</div>"
      ],
      "text/plain": [
       "   Invoice Number  Store ID Store City Store State Salesperson ID  \\\n",
       "0               1         3  Tillamook          OR             CJ   \n",
       "1               2         1  Vancouver          WA          Emily   \n",
       "2               2         1  Vancouver          WA          Emily   \n",
       "3               3         1  Vancouver          WA          Jesse   \n",
       "4               4         2      Salem          OR        Jessica   \n",
       "\n",
       "            Sale Date  Manufacturer ID Manufacturer Name  Product ID  \\\n",
       "0 2015-01-01 18:00:00                1   Hewlett-Packard           3   \n",
       "1 2015-01-01 18:00:00                7           LexMark           5   \n",
       "2 2015-01-01 18:00:00                7           LexMark           5   \n",
       "3 2015-01-01 18:00:00                2            Compaq           3   \n",
       "4 2015-01-01 18:00:00                1   Hewlett-Packard           3   \n",
       "\n",
       "     Product Type  Sale Amount Customer Satisfaction Sales Training Approach  \n",
       "0         Desktop          649                     1      Bi-annual Training  \n",
       "1  Inkjet Printer          239                     2         Weekly Training  \n",
       "2  Inkjet Printer          239                     2         Weekly Training  \n",
       "3         Desktop          699                     3         Weekly Training  \n",
       "4         Desktop          649                     1           Self Training  "
      ]
     },
     "execution_count": 45,
     "metadata": {},
     "output_type": "execute_result"
    }
   ],
   "source": [
    "df.head()"
   ]
  },
  {
   "cell_type": "markdown",
   "id": "be11ad4d",
   "metadata": {},
   "source": [
    "### Data Cleaning"
   ]
  },
  {
   "cell_type": "markdown",
   "id": "80353511",
   "metadata": {},
   "source": [
    "Cek Missing Value"
   ]
  },
  {
   "cell_type": "code",
   "execution_count": 48,
   "id": "a6cfcf3b",
   "metadata": {},
   "outputs": [
    {
     "data": {
      "text/plain": [
       "Invoice Number             0\n",
       "Store ID                   0\n",
       "Store City                 0\n",
       "Store State                0\n",
       "Salesperson ID             0\n",
       "Sale Date                  0\n",
       "Manufacturer ID            0\n",
       "Manufacturer Name          0\n",
       "Product ID                 0\n",
       "Product Type               0\n",
       "Sale Amount                0\n",
       "Customer Satisfaction      0\n",
       "Sales Training Approach    0\n",
       "dtype: int64"
      ]
     },
     "execution_count": 48,
     "metadata": {},
     "output_type": "execute_result"
    }
   ],
   "source": [
    "df.isnull().sum()"
   ]
  },
  {
   "cell_type": "markdown",
   "id": "ef3ec5a0",
   "metadata": {},
   "source": [
    "Tidak ada missing value pada dataset :)"
   ]
  },
  {
   "cell_type": "code",
   "execution_count": 49,
   "id": "20c8abb2",
   "metadata": {},
   "outputs": [
    {
     "name": "stdout",
     "output_type": "stream",
     "text": [
      "<class 'pandas.core.frame.DataFrame'>\n",
      "RangeIndex: 536 entries, 0 to 535\n",
      "Data columns (total 13 columns):\n",
      " #   Column                   Non-Null Count  Dtype         \n",
      "---  ------                   --------------  -----         \n",
      " 0   Invoice Number           536 non-null    int64         \n",
      " 1   Store ID                 536 non-null    int64         \n",
      " 2   Store City               536 non-null    object        \n",
      " 3   Store State              536 non-null    object        \n",
      " 4   Salesperson ID           536 non-null    object        \n",
      " 5   Sale Date                536 non-null    datetime64[ns]\n",
      " 6   Manufacturer ID          536 non-null    int64         \n",
      " 7   Manufacturer Name        536 non-null    object        \n",
      " 8   Product ID               536 non-null    int64         \n",
      " 9   Product Type             536 non-null    object        \n",
      " 10  Sale Amount              536 non-null    int64         \n",
      " 11  Customer Satisfaction    536 non-null    object        \n",
      " 12  Sales Training Approach  536 non-null    object        \n",
      "dtypes: datetime64[ns](1), int64(5), object(7)\n",
      "memory usage: 54.6+ KB\n"
     ]
    }
   ],
   "source": [
    "df.info()"
   ]
  },
  {
   "cell_type": "code",
   "execution_count": null,
   "id": "6a986512",
   "metadata": {},
   "outputs": [],
   "source": []
  }
 ],
 "metadata": {
  "kernelspec": {
   "display_name": "venv",
   "language": "python",
   "name": "python3"
  },
  "language_info": {
   "codemirror_mode": {
    "name": "ipython",
    "version": 3
   },
   "file_extension": ".py",
   "mimetype": "text/x-python",
   "name": "python",
   "nbconvert_exporter": "python",
   "pygments_lexer": "ipython3",
   "version": "3.13.3"
  }
 },
 "nbformat": 4,
 "nbformat_minor": 5
}
